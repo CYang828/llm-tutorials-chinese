{
  "cells": [
    {
      "cell_type": "markdown",
      "metadata": {
        "id": "cv1K2unMDaPr"
      },
      "source": [
        "# 数据连接器\n",
        "\n",
        "LlamaIndex中的数据连接器负责从不同来源获取数据并将数据转换为文档格式，以便LlamaIndex可以摄取。\n",
        "\n",
        "LlamaIndex支持一系列数据连接器，可帮助您从网页、PDF、YouTube视频、Notion文档、Slack消息、Google文档等读取数据。\n",
        "\n",
        "让我们通过一个示例讨论其中的一些。"
      ]
    },
    {
      "cell_type": "code",
      "execution_count": null,
      "metadata": {
        "id": "p_g26P4s-oTE"
      },
      "outputs": [],
      "source": [
        "!pip install llama-index openai"
      ]
    },
    {
      "cell_type": "markdown",
      "metadata": {
        "id": "efZgbN8FJRTg"
      },
      "source": [
        "### YouTube文档加载器\n",
        "\n",
        "让我们看看如何将YouTube视频的转录转换为文档格式"
      ]
    },
    {
      "cell_type": "code",
      "execution_count": 24,
      "metadata": {
        "id": "4VyBKMWGHDev"
      },
      "outputs": [],
      "source": [
        "from llama_index import download_loader\n",
        "\n",
        "YoutubeTranscriptReader = download_loader(\"YoutubeTranscriptReader\")\n",
        "\n",
        "loader = YoutubeTranscriptReader()\n",
        "youtube_documents = loader.load_data(ytlinks=['https://www.youtube.com/watch?v=nHcbHdgVUJg&ab_channel=WintWealth'])"
      ]
    },
    {
      "cell_type": "markdown",
      "metadata": {
        "id": "SB7FcI74JqvK"
      },
      "source": [
        "### PDF加载器"
      ]
    },
    {
      "cell_type": "markdown",
      "metadata": {
        "id": "8jNWF8NgKFBj"
      },
      "source": [
        "下载PDF文件"
      ]
    },
    {
      "cell_type": "code",
      "execution_count": null,
      "metadata": {
        "id": "QoR7hK_yJ_uG"
      },
      "outputs": [],
      "source": [
        "!wget https://www.africau.edu/images/default/sample.pdf"
      ]
    },
    {
      "cell_type": "markdown",
      "metadata": {
        "id": "Vp4eVGlJKIK-"
      },
      "source": [
        "现在将其转换为文档格式"
      ]
    },
    {
      "cell_type": "code",
      "execution_count": 26,
      "metadata": {
        "id": "vaibV1VGHOom"
      },
      "outputs": [],
      "source": [
        "from pathlib import Path\n",
        "from llama_index import download_loader\n",
        "\n",
        "PDFReader = download_loader(\"PDFReader\")\n",
        "\n",
        "loader = PDFReader()\n",
        "\n",
        "pdf_document = loader.load_data(file=Path('./sample.pdf'))"
      ]
    },
    {
      "cell_type": "markdown",
      "metadata": {
        "id": "RvSUp1xfNsQC"
      },
      "source": [
        "### Notion加载器"
      ]
    },
    {
      "cell_type": "code",
      "execution_count": 27,
      "metadata": {
        "id": "_RaJxVB0KPvF"
      },
      "outputs": [],
      "source": [
        "from llama_index import download_loader\n",
        "import os\n",
        "\n",
        "NotionPageReader = download_loader('NotionPageReader')\n",
        "\n",
        "integration_token = \"your-notion-token\"\n",
        "database_id = \"your-database-id\"\n",
        "reader = NotionPageReader(integration_token=integration_token)\n",
        "notion_documents = reader.load_data(database_id=database_id)"
      ]
    },
    {
      "cell_type": "code",
      "execution_count": 28,
      "metadata": {
        "id": "jhB7jgmoN22h"
      },
      "outputs": [],
      "source": [
        "all_documents = youtube_documents + pdf_document + notion_documents"
      ]
    },
    {
      "cell_type": "markdown",
      "metadata": {
        "id": "95fe8wB3OYUF"
      },
      "source": [
        "现在让我们在这些文档上创建一个问答机器人"
      ]
    },
    {
      "cell_type": "code",
      "execution_count": 30,
      "metadata": {
        "id": "SJp8od3fN9GA"
      },
      "outputs": [],
      "source": [
        "import os\n",
        "from llama_index import VectorStoreIndex\n",
        "os.environ[\"OPENAI_API_KEY\"] = \"your-key\"\n",
        "index = VectorStoreIndex.from_documents(all_documents)"
      ]
    },
    {
      "cell_type": "code",
      "execution_count": 31,
      "metadata": {
        "colab": {
          "base_uri": "https://localhost:8080/"
        },
        "id": "e4-FkqQVOUIz",
        "outputId": "5ea314f6-9513-4227-e7bf-25d7f1f6e92d"
      },
      "outputs": [
        {
          "name": "stdout",
          "output_type": "stream",
          "text": [
            "\n",
            "Yes, IIT can help in certain situations. For example, having an IIT degree can give a founder access to a larger network of investors and potential partners. It can also give them more credibility when pitching their startup. However, it is not a guarantee of success and there are many successful founders who do not have an IIT degree. Ultimately, it is up to the individual to prove themselves and their abilities.\n"
          ]
        }
      ],
      "source": [
        "query_engine = index.as_query_engine()\n",
        "response = query_engine.query(\"Does IIT help?\")\n",
        "print(response)"
      ]
    }
  ],
  "metadata": {
    "colab": {
      "authorship_tag": "ABX9TyMmecEa+WHznLAOWzzTvUwk",
      "include_colab_link": true,
      "provenance": []
    },
    "kernelspec": {
      "display_name": "Python 3",
      "name": "python3"
    },
    "language_info": {
      "name": "python"
    }
  },
  "nbformat": 4,
  "nbformat_minor": 0
}
