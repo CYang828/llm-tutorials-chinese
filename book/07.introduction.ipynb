{
  "cells": [
    {
      "cell_type": "markdown",
      "metadata": {
        "id": "uvfI4x-FGYBI"
      },
      "source": [
        "# LlamaIndex简介\n",
        "\n",
        "这是托管在https://github.com/SamurAIGPT/LlamaIndex-course 的LlamaIndex课程的第一课。\n",
        "\n",
        "在课程中，我们将了解LlamaIndex的基础知识，数据连接器，索引是什么，检索器，查询引擎，最终使用LlamaIndex构建项目。\n",
        "\n",
        "### LlamaIndex的作用是什么？\n",
        "\n",
        "ChatGPT是在大量数据上训练的。但如果您希望在私有数据上训练ChatGPT怎么办？有3种方法可以实现这一目标：\n",
        "\n",
        "1. 在您的数据上训练像Llama这样的开源LLM。这是一个复杂且耗时的过程，不具备可扩展性。\n",
        "2. 将所有文档作为提示传递给LLM。这种方法存在限制，因为上下文窗口大小受限。\n",
        "3. 仅获取并将相关文档作为输入传递给您的LLM。\n",
        "\n",
        "LlamaIndex使用第三种方法工作，我们将通过示例学习如何实现这一点。索引等涉及的一些概念将在接下来的课程中更详细地介绍。"
      ]
    },
    {
      "cell_type": "markdown",
      "metadata": {
        "id": "PprJZxFWJLsW"
      },
      "source": [
        "### 在您的文档上训练ChatGPT\n",
        "\n",
        "以下是一个简单示例，演示如何在您的文档上训练ChatGPT"
      ]
    },
    {
      "cell_type": "markdown",
      "metadata": {
        "id": "Kb4CHvZzgD2Z"
      },
      "source": [
        "### 安装LlamaIndex和依赖项"
      ]
    },
    {
      "cell_type": "code",
      "execution_count": null,
      "metadata": {
        "id": "2hv7H-NNf-aA"
      },
      "outputs": [],
      "source": [
        "!pip install llama_index"
      ]
    },
    {
      "cell_type": "markdown",
      "metadata": {
        "id": "VsmhVpUWgKz9"
      },
      "source": [
        "### 下载用于训练的数据。我们使用国情咨文文本文件来训练ChatGPT"
      ]
    },
    {
      "cell_type": "code",
      "execution_count": 2,
      "metadata": {
        "id": "N_f9DWSKKMQn"
      },
      "outputs": [],
      "source": [
        "!wget https://raw.githubusercontent.com/hwchase17/chat-your-data/master/state_of_the_union.txt\n",
        "!mkdir data\n",
        "!mv state_of_the_union.txt data/"
      ]
    },
    {
      "cell_type": "markdown",
      "metadata": {
        "id": "6c63r8FUgUhN"
      },
      "source": [
        "### 使用LlamaIndex训练聊天机器人\n",
        "\n",
        "现在进入主要部分。我们将使用LlamaIndex在我们的私有数据上训练ChatGPT。这里提到的一些概念，如VectorStoreIndex，将在接下来的课程中详细解释。\n",
        "\n",
        "我们正在使用LlamaIndex中的SimpleDirectoryReader从上面下载的文件中读取数据。这个读取器可以从目录中的所有文件中读取数据，并将其转换为可以训练的文档格式。\n",
        "\n",
        "在\"YOUR KEY\"的位置放入您的openai密钥"
      ]
    },
    {
      "cell_type": "code",
      "execution_count": null,
      "metadata": {
        "id": "xZR0-cONKbA-"
      },
      "outputs": [],
      "source": [
        "from llama_index import VectorStoreIndex, SimpleDirectoryReader\n",
        "import openai\n",
        "openai.api_key = \"YOUR KEY\"\n",
        "documents = SimpleDirectoryReader('data').load_data()\n",
        "index = VectorStoreIndex.from_documents(documents)"
      ]
    },
    {
      "cell_type": "markdown",
      "metadata": {
        "id": "ZcgozDyQhJYr"
      },
      "source": [
        "现在我们创建一个名为query engine的LlamaIndex接口来查询我们的文档。这将在接下来的课程中更详细地解释。\n",
        "\n",
        "有了这个，您现在可以使用自然语言查询您的数据了。"
      ]
    },
    {
      "cell_type": "code",
      "execution_count": 18,
      "metadata": {
        "colab": {
          "base_uri": "https://localhost:8080/"
        },
        "id": "hYVIi5k4Konx",
        "outputId": "725140be-cc51-4ef4-959e-783e4de0ebd3"
      },
      "outputs": [
        {
          "name": "stdout",
          "output_type": "stream",
          "text": [
            "\n",
            "NATO is the North Atlantic Treaty Organization, an intergovernmental military alliance between 29 North American and European countries. It was created to secure peace and stability in Europe after World War 2.\n"
          ]
        }
      ],
      "source": [
        "query_engine = index.as_query_engine()\n",
        "response = query_engine.query(\"What is NATO?\")\n",
        "print(response)"
      ]
    }
  ],
  "metadata": {
    "colab": {
      "authorship_tag": "ABX9TyMmuxhD9ORwWPFUJEB0zH8m",
      "include_colab_link": true,
      "provenance": []
    },
    "kernelspec": {
      "display_name": "Python 3",
      "name": "python3"
    },
    "language_info": {
      "name": "python"
    }
  },
  "nbformat": 4,
  "nbformat_minor": 0
}
