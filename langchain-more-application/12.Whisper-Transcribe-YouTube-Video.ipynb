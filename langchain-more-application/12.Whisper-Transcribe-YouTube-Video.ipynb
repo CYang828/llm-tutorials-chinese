{
 "cells": [
  {
   "cell_type": "markdown",
   "metadata": {
    "id": "Ai6GxDDor_tf"
   },
   "source": [
    "#  **Whisper 转录 YouTube *视频***"
   ]
  },
  {
   "cell_type": "markdown",
   "metadata": {
    "id": "NGjXLVgNsUpc"
   },
   "source": [
    "# **安装pytube库**\n",
    "\n",
    "---\n",
    "\n",
    "接下来我们将使用 Whisper 转录 YouTube 视频。我们将使用 Python 的“pytube”库将音频转换为MP4。文件\n",
    "\n",
    "\n",
    "```\n",
    "pytube repo：https://github.com/pytube/pytube。\n",
    "```\n",
    "\n",
    "\n",
    "*首先，我们需要安装* Pytube 库。您可以通过在终端中运行以下命令来执行此操作："
   ]
  },
  {
   "cell_type": "code",
   "execution_count": 1,
   "metadata": {
    "colab": {
     "base_uri": "https://localhost:8080/"
    },
    "id": "OQ5nLh1Xro1r",
    "outputId": "487c37f8-af0c-4469-9795-03e457f4dcf6"
   },
   "outputs": [
    {
     "name": "stdout",
     "output_type": "stream",
     "text": [
      "Looking in indexes: https://pypi.org/simple, https://us-python.pkg.dev/colab-wheels/public/simple/\n",
      "Collecting pytube\n",
      "  Downloading pytube-15.0.0-py3-none-any.whl (57 kB)\n",
      "\u001b[2K     \u001b[90m━━━━━━━━━━━━━━━━━━━━━━━━━━━━━━━━━━━━━━━━\u001b[0m \u001b[32m57.6/57.6 kB\u001b[0m \u001b[31m2.8 MB/s\u001b[0m eta \u001b[36m0:00:00\u001b[0m\n",
      "\u001b[?25hInstalling collected packages: pytube\n",
      "Successfully installed pytube-15.0.0\n"
     ]
    }
   ],
   "source": [
    "!pip install --upgrade pytube"
   ]
  },
  {
   "cell_type": "markdown",
   "metadata": {
    "id": "U2niFIRts8d2"
   },
   "source": [
    "# **下载音频MP4文件**\n",
    "\n",
    "接下来，我们需要导入 pytube，提供 YouTube 视频的链接，并将音频转换为MP4："
   ]
  },
  {
   "cell_type": "code",
   "execution_count": null,
   "metadata": {
    "id": "m8MZqXfHtII-"
   },
   "outputs": [],
   "source": [
    "# 导入Pytube库\n",
    "import pytube\n",
    "\n",
    "#加载YouTube链接\n",
    "video = \"https://www.youtube.com/watch?v=x7X9w_GIm1s\"\n",
    "\n",
    "# 转换和下载为MP4文件\n",
    "data = pytube.YouTube(video)\n",
    "audio = data.streams.get_audio_only()\n",
    "audio.download()"
   ]
  },
  {
   "cell_type": "markdown",
   "metadata": {
    "id": "Hz_LnnLYtSqu"
   },
   "source": [
    "# **安装 Whisper 库**"
   ]
  },
  {
   "cell_type": "code",
   "execution_count": null,
   "metadata": {
    "id": "1jo9UdWItYLF"
   },
   "outputs": [],
   "source": [
    "!pip install git+https://github.com/openai/whisper.git -q"
   ]
  },
  {
   "cell_type": "code",
   "execution_count": null,
   "metadata": {
    "id": "G7hHNJCmtdLV"
   },
   "outputs": [],
   "source": [
    "import whisper\n",
    "\n",
    "model = whisper.load_model(\"base\")\n",
    "text = model.transcribe(\"Python in 100 Seconds.mp4\")\n",
    "\n",
    "#printing the transcribe\n",
    "text['text']"
   ]
  }
 ],
 "metadata": {
  "colab": {
   "authorship_tag": "ABX9TyNtAG23ZXN4bjDwqkS180xF",
   "include_colab_link": true,
   "provenance": []
  },
  "kernelspec": {
   "display_name": "Python 3 (ipykernel)",
   "language": "python",
   "name": "python3"
  },
  "language_info": {
   "codemirror_mode": {
    "name": "ipython",
    "version": 3
   },
   "file_extension": ".py",
   "mimetype": "text/x-python",
   "name": "python",
   "nbconvert_exporter": "python",
   "pygments_lexer": "ipython3",
   "version": "3.8.3"
  }
 },
 "nbformat": 4,
 "nbformat_minor": 4
}
